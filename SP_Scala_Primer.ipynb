{
 "cells": [
  {
   "cell_type": "code",
   "execution_count": null,
   "metadata": {
    "collapsed": true,
    "deletable": true,
    "editable": true
   },
   "outputs": [],
   "source": [
    "%ShowTypes on\n",
    "\n",
    "val sqlContext = new org.apache.spark.sql.SQLContext(sc)\n",
    "\n",
    "// For implicit transformation of RDDs to DataFrames\n",
    "import sqlContext.implicits._\n",
    "\n",
    "// For telling Spark to look in the local file system\n",
    "import java.io._\n",
    "def localpath(path: String): String = {\n",
    "    \"file://\" + new java.io.File(\".\").getCanonicalPath + \"/\" + path\n",
    "}\n",
    "\n",
    "// For timing expression evaluation\n",
    "def time[R](block: => R): R = {\n",
    "    val start: Long = System.nanoTime()\n",
    "    val result = block\n",
    "    val end: Long = System.nanoTime()\n",
    "    val duration: Double = (end - start) / 1000000000.0\n",
    "    println(\"Elapsed time: \" + duration + \"s\")\n",
    "    result\n",
    "}\n",
    "\n",
    "println(\"Using Spark version \" + sc.version)"
   ]
  },
  {
   "cell_type": "markdown",
   "metadata": {
    "deletable": true,
    "editable": true
   },
   "source": [
    "# Scala Primer\n",
    "\n",
    "[Scala](https://en.wikipedia.org/wiki/Scala_(programming_language) is JVM based and has both object-oriented and functional aspects.  Whereas Python is an older imperative language that has tried to graft in functional programming elements, Scala was built ground-up as a [functional language](https://en.wikipedia.org/wiki/Functional_programming), with appropriate concessions for [object-oriented programming](https://en.wikipedia.org/wiki/Object-oriented_programming).\n",
    "- Scala is [strongly typed](https://en.wikipedia.org/wiki/Strong_and_weak_typing), and strongly-typed functional programming languages have the nice (empirical) property that if you can get the code to compile, it will almost always work as intended.\n",
    "- Unlike many other typed programming languages, you do not have to annotate every variable because the compiler has a strong [type inference](http://www.scala-lang.org/old/node/127).\n",
    "- Scala is JVM so it can directly tap into existing [Java libraries](http://docs.scala-lang.org/tutorials/scala-for-java-programmers.html), and has a thriving ecosystem of its own.\n",
    "- Since Scala is JVM based, you *can* use it as a \"better Java\" and simply write Java-like code.  Don't do this.\n",
    "- The downside of Scala is that the compiler is [notoriously slow](http://www.quora.com/Why-is-the-Scala-compiler-so-slow).\n",
    "\n",
    "So, why bother to learn it?\n",
    "- Knowing more languages gives you more options (except for horrible things like [Whitespace](https://en.wikipedia.org/wiki/Whitespace_(programming_language))\n",
    "- It's explicitly meant to be functional, so it translates well to distributed computing (where mutability gets confusing)\n",
    "- Spark is written in it (we'll cover Spark later, it's a much more modern distributed computing framework)\n",
    "- It's compiled, which comes with a slew of benefits\n",
    "- It has a REPL for testing (like Python)\n"
   ]
  },
  {
   "cell_type": "markdown",
   "metadata": {
    "deletable": true,
    "editable": true
   },
   "source": [
    "## Basic Syntax\n",
    "\n",
    "Not space sensitive (other than newlines), so blocks are demarcated with curly brackets `{}` or parenthesis `()` depending on context.  Comments are C-style, `//` for single line commments and `/* */` for multi-line\n",
    "\n",
    "We'll cover making classes in a bit"
   ]
  },
  {
   "cell_type": "code",
   "execution_count": null,
   "metadata": {
    "collapsed": true,
    "deletable": true,
    "editable": true
   },
   "outputs": [],
   "source": [
    "//Creating a value\n",
    "val x = 3*4\n",
    "\n",
    "val li = List(1,2,3,4,5)\n",
    "\n",
    "/* Functions are similar to python, but need typing in the definitions.  Return types\n",
    "   can be omitted, but it's generally a good idea to include them.  Note no \"return\" statement,\n",
    "   it returns the value of the last line*/ \n",
    "def cube(x: Int): Int = {\n",
    "  //I do nothing\n",
    "  x*x*x\n",
    "}\n",
    "\n",
    "//Method calls on classes work as in java/C++/etc\n",
    "val howdy = \"Howdy\"\n",
    "println(\"Howdy length = \" + howdy.length)\n",
    "\n",
    "//for loops work basically the same, in their most primitive form\n",
    "//This loop would be considered extremely bad form in Scala\n",
    "for(x <- li) {\n",
    "  //The x value here will automatically get converted to a string,\n",
    "  //Scala knows + on strings involves turning things in to strings\n",
    "  println(\"a = \" + x)\n",
    "}\n",
    "\n",
    "//while loops exist\n",
    "var i = 0\n",
    "while(i < 7) {\n",
    "    println(s\"i = $i\")\n",
    "    i += 1\n",
    "}\n",
    "\n",
    "//But they're not used as much as you'd think, since all collections have map, reduce, \n",
    "//and filter and most have flatMap.  These all exist in python as well\n",
    "//But no list comprehensions.  But you can play for loop games\n",
    "\n",
    "//lambdas are written (input vars) => computation\n",
    "println(li.reduce((x,y) => x + y))\n",
    "//underscore is lambda shorthand, you'll unfortunately see it *a lot*\n",
    "println(li.map(cube(_)))\n",
    "//And in special cases you can omit it and let the compiler figure it out\n",
    "println(li.map(cube).reduce(_ + _))\n",
    "println(li.filter(_ % 2 == 1))\n",
    "//flatMap is very important in functional programing (hello Monads!)\n",
    "def makeCopies(n: Int): List[Int] = {\n",
    "    List.fill(n)(n)\n",
    "}\n",
    "println(li.flatMap(makeCopies))\n",
    "\n",
    "//Tuples also exist, and work about the same as Python, but they're typed\n",
    "val tup = (\"bob\",7)\n",
    "//and we get their elements with ._1 and ._2 (don't ask)\n",
    "println(tup._1)\n",
    "//And we can tear them apart\n",
    "val (x,y) = tup\n",
    "println(s\"$x, $y came from $tup\")"
   ]
  },
  {
   "cell_type": "markdown",
   "metadata": {
    "deletable": true,
    "editable": true
   },
   "source": [
    "**Questions:**\n",
    "\n",
    "We'll be seeing lambdas A LOT in Scala.  Let's create a few.\n",
    "1. Concatenate all the strings in a list\n",
    "2. Get the lengths of those strings in the list\n",
    "3. Starting from either point, find the total number of characters"
   ]
  },
  {
   "cell_type": "markdown",
   "metadata": {
    "deletable": true,
    "editable": true
   },
   "source": [
    "## Values vs. Variables"
   ]
  },
  {
   "cell_type": "markdown",
   "metadata": {
    "deletable": true,
    "editable": true
   },
   "source": [
    "Values or variables are defined with `val` or `var` respectively, afterwards variables can be set with `=`.  Immutable `val`s can only be set at creation"
   ]
  },
  {
   "cell_type": "code",
   "execution_count": null,
   "metadata": {
    "collapsed": true,
    "deletable": true,
    "editable": true
   },
   "outputs": [],
   "source": [
    "var x = 1\n",
    "x = 2   // but don't use vars!\n",
    "val y = 1  // immutable - reassignment throws error\n",
    "// y = 2\n",
    "println(\"Functional!\")\n",
    "//Semi-colons *technically* end lines, but they're inferred if not there\n",
    "print(\"I've got a semi-colon, so ... \"); println(\"I'm a different line/expression\")"
   ]
  },
  {
   "cell_type": "code",
   "execution_count": null,
   "metadata": {
    "collapsed": true,
    "deletable": true,
    "editable": true
   },
   "outputs": [],
   "source": [
    "val x: Int = 1+1         // you can annotate the type\n",
    "val y = 1+1              // or not, the compiler will infer it (usually)\n",
    "assert(x == y)\n",
    "println(s\"x: $x, y: $y\") // string interpolation"
   ]
  },
  {
   "cell_type": "markdown",
   "metadata": {
    "deletable": true,
    "editable": true
   },
   "source": [
    "### Everything is a value\n",
    "All statements return *something*.  If that thing is meant to be an action, it will (hopefully) return *Unit* to indicate that.  This is very much in line with strong typing - if you get a *Unit*, often written as `()`, you know a *side effect* of some nature occurred."
   ]
  },
  {
   "cell_type": "code",
   "execution_count": null,
   "metadata": {
    "collapsed": true,
    "deletable": true,
    "editable": true,
    "scrolled": true
   },
   "outputs": [],
   "source": [
    "val ret = println(s\"I'm printing 7 * 3 = ${7*3}\")\n",
    "println(s\"printing gives back the value ${ret}\")"
   ]
  },
  {
   "cell_type": "code",
   "execution_count": null,
   "metadata": {
    "collapsed": true,
    "deletable": true,
    "editable": true
   },
   "outputs": [],
   "source": [
    "val conditional = if(7 > 3) {\n",
    "  \"Yep\"\n",
    "} else {\n",
    "  \"No\"\n",
    "}\n",
    "println(conditional)\n",
    "println(conditional.getClass)"
   ]
  },
  {
   "cell_type": "markdown",
   "metadata": {
    "deletable": true,
    "editable": true
   },
   "source": [
    "Functional programming treats computation as the evaluation of mathematical functions and avoids changing state and mutable data. That way, every function call with the same inputs yields the same outputs.  *This is the absolute key concept in functional programming.* Functions *do not* have internal state that changes.  In Scala, this is extended to objects as well, so generally \"changing\" an object doesn't change it, but rather returns a new instance that is an altered copy of the old one.\n",
    "\n",
    "These cells are also expressions. Deleting the print statement in the above cell will cause the interpreter to attempt parsing the commented-out line: the last line of code in the block being what the expression evaluates to."
   ]
  },
  {
   "cell_type": "markdown",
   "metadata": {
    "deletable": true,
    "editable": true
   },
   "source": [
    "**Questions:**\n",
    "\n",
    "1. What would be something with a side effect?\n",
    "2. Something without?\n",
    "3. Why does println return `()`?  What other options would make sense?"
   ]
  },
  {
   "cell_type": "markdown",
   "metadata": {
    "deletable": true,
    "editable": true
   },
   "source": [
    "### Almost everything is an object\n",
    "Inheriting this from Java, then running with it, this includes base types (Int, Float, String, etc), lambdas, nearly everything that isn't a control structure."
   ]
  },
  {
   "cell_type": "code",
   "execution_count": null,
   "metadata": {
    "collapsed": true,
    "deletable": true,
    "editable": true
   },
   "outputs": [],
   "source": [
    "// + is actually a method of the \"Int\" class\n",
    "assert(x.+(y) == x + y)\n",
    "\n",
    "//Lambda syntax, called \"anonymous functions\" in Scala\n",
    "//Can be defined with underscores as well\n",
    "//The type annotation is usually not needed if the lambda is used in a context\n",
    "val square: Int => Int = x => x * x\n",
    "\n",
    "println(square.getClass)\n",
    "\n",
    "// you can also omit traditional class method invocation syntax (but probably shouldn't)\n",
    "// this is how + works\n",
    "(1 until 5) map square foreach println\n",
    "//Unrolls to\n",
    "((1.until(5)).map(x => x*x)).foreach(println(_))"
   ]
  },
  {
   "cell_type": "markdown",
   "metadata": {
    "deletable": true,
    "editable": true
   },
   "source": [
    "### Basic types\n",
    "`Int`, `String`, `Float`, `Double`, `Char` do exactly what you'd expect"
   ]
  },
  {
   "cell_type": "markdown",
   "metadata": {
    "deletable": true,
    "editable": true
   },
   "source": [
    "## Basic data structures"
   ]
  },
  {
   "cell_type": "code",
   "execution_count": null,
   "metadata": {
    "collapsed": true,
    "deletable": true,
    "editable": true
   },
   "outputs": [],
   "source": [
    "//List is the most commonly used, implemented as a linked list\n",
    "val smallList = List(1, 2, 3)\n",
    "val smallMap = Map('a' -> 1, 'b' -> 2)        // equiv: Map(('a', 1), ('b', 2))\n",
    "val smallSet = Set('a', 'b')\n",
    "val smallArray = Array(1, 2, 3)\n",
    "val optSome = Some(2)                         // Option type\n",
    "val optNone = None\n",
    "\n",
    "val list = (0 until 10).toList                 // alt: (0 to 9).toList\n",
    "val largerNumbers = list.map(_ + 1000)         // alt: list.map(x => x + 1000)\n",
    "val evens = list.filter(_ % 2 == 0)\n",
    "val set = list.toSet                           // alt: list.toSet(), parens optional\n",
    "val alphabet = ('a' to 'z').toList\n",
    "val alphabetMap = alphabet.zipWithIndex.toMap  // like python's enumerate function\n",
    "\n",
    "// foreach is like map but when you don't expect a return value\n",
    "smallList.foreach(println)"
   ]
  },
  {
   "cell_type": "markdown",
   "metadata": {
    "deletable": true,
    "editable": true
   },
   "source": [
    "## List vs. Array\n",
    "\n",
    "A Scala `List` is implemented as a linked list.  An `Array` is really a fixed length in memory buffer (just like the Java array).  They both inherit from the more generic `Seq` interface."
   ]
  },
  {
   "cell_type": "code",
   "execution_count": null,
   "metadata": {
    "collapsed": true,
    "deletable": true,
    "editable": true
   },
   "outputs": [],
   "source": [
    "// construct list\n",
    "val list = 1 :: 2 :: 3 :: Nil // 1 -> 2 -> 3 -> end \n",
    "\n",
    "// and use it\n",
    "def sum(list: List[Int]): Int = list match {\n",
    "    case head :: tail => head + sum(tail)\n",
    "    case Nil => 0\n",
    "}\n",
    "assert(sum(list) == 6)\n",
    "\n",
    "// construct an array\n",
    "val array = new Array[Int](3)\n",
    "array(0) = 1\n",
    "array(1) = 2\n",
    "array(2) = 3\n",
    "// array(4) = 4  // this throws an exception\n",
    "\n",
    "assert(list(2) == array(2))  // select\n",
    "assert((0 :: list) == (0 +: array).toList)  // prepend\n",
    "assert((list :+ 4) == (array :+ 4).toList)  // append"
   ]
  },
  {
   "cell_type": "markdown",
   "metadata": {
    "deletable": true,
    "editable": true
   },
   "source": [
    "**Question:**\n",
    "- What is the running time of `list(n)` in Scala (and Python)?\n",
    "- What is the running time of `array(n)`?\n",
    "- What is the cost of prepending to `list` (i.e. `a :: list`)?\n",
    "- What is the cost of prepending to `array` (i.e. `a +: list`)?\n",
    "- What is the cost of appending to `list` (i.e. `list :+ a`)?\n",
    "- What is the cost of appending to `array` (i.e. `list :+ a`)?"
   ]
  },
  {
   "cell_type": "markdown",
   "metadata": {
    "deletable": true,
    "editable": true
   },
   "source": [
    "## Chaining and anonymous functions\n",
    "\n",
    "These may seem simple, and they are, but they're probably the most important concept if you plan on using Spark"
   ]
  },
  {
   "cell_type": "code",
   "execution_count": null,
   "metadata": {
    "collapsed": true,
    "deletable": true,
    "editable": true
   },
   "outputs": [],
   "source": [
    "val urls = List(\n",
    "    \"http://www.google.com\",\n",
    "    \"http://www.google.com?q=scala\",\n",
    "    \"http://www.yahoo.com\",\n",
    "    \"http://www.bing.com\"\n",
    ")\n",
    "\n",
    "// chained maps\n",
    "// note that due to the underlying REPL we need to enclose chained methods in braces\n",
    "// This isn't needed in compiled code\n",
    "val names1 = ( urls\n",
    "    .map(_.split(\"//\").last)\n",
    "    .map(_.split('.')(1))\n",
    ")\n",
    "\n",
    "// multiline anonymous function\n",
    "val names2 = urls.map({x =>\n",
    "    val domain = x.split(\"//\").last\n",
    "    domain.split('.')(1)\n",
    "})\n",
    "\n",
    "assert(names1 == names2)"
   ]
  },
  {
   "cell_type": "markdown",
   "metadata": {
    "deletable": true,
    "editable": true
   },
   "source": [
    "## Making your own classes"
   ]
  },
  {
   "cell_type": "code",
   "execution_count": null,
   "metadata": {
    "collapsed": true,
    "deletable": true,
    "editable": true
   },
   "outputs": [],
   "source": [
    "class Complex(real: Double, imaginary: Double) {\n",
    "   //Class variables, you'll be able to access these from outside\n",
    "   val re = real\n",
    "   val im = imaginary\n",
    "   \n",
    "   def +(other: Complex): Complex = {\n",
    "     new Complex(re + other.re, im + other.im)\n",
    "   }\n",
    "   \n",
    "   //Can omit return type, not a good idea\n",
    "   def *(other: Complex) = {\n",
    "     //Fill me in\n",
    "   }\n",
    "   \n",
    "   //The toString class controls how things are printed\n",
    "   //to the screen\n",
    "   override def toString(): String = {\n",
    "     s\"$re + $im i\"\n",
    "   }\n",
    "}\n",
    "\n",
    "val c = new Complex(7.0,3.0)\n",
    "val d = new Complex(1.1, 2.2)\n",
    "\n",
    "println(c.im)\n",
    "\n",
    "//you get the operator notation for free!\n",
    "println(c + d)"
   ]
  },
  {
   "cell_type": "markdown",
   "metadata": {
    "deletable": true,
    "editable": true
   },
   "source": [
    "**Questions:**\n",
    "\n",
    "1. As written, what is the return type of \\*?  What should it be?\n",
    "2. Let's fill it in, what is the return type now?"
   ]
  },
  {
   "cell_type": "markdown",
   "metadata": {
    "deletable": true,
    "editable": true
   },
   "source": [
    "## Equality in Scala\n",
    "\n",
    "*It depends on what the meaning of the word 'is' is*: [a famous ex-president.]\n",
    "\n",
    "There are [two notions](https://en.wikipedia.org/wiki/Relational_operator#Object_identity_vs._content_equality) of `==`:\n",
    "- *Object identity* or *shallow equality* is when two objects are pointing  at the same thing (in C, we might call this a pointer check)\n",
    "- *Structural equality* or *deep equality* is when the two objects reference equivalent sturctures\n",
    "\n",
    "This can be a little confusing because `==` can mean both:"
   ]
  },
  {
   "cell_type": "code",
   "execution_count": null,
   "metadata": {
    "collapsed": true,
    "deletable": true,
    "editable": true
   },
   "outputs": [],
   "source": [
    "val a1 = (0 to 10).toArray\n",
    "val a2 = (0 to 10).toArray\n",
    "assert(a1 != a2)  // legacy java notion of comparison\n",
    "\n",
    "val l1 = (0 to 10).toList\n",
    "val l2 = (0 to 10).toList\n",
    "assert(l1 == l2)"
   ]
  },
  {
   "cell_type": "markdown",
   "metadata": {
    "deletable": true,
    "editable": true
   },
   "source": [
    "## Monads and map, flatMap, filter, foreach"
   ]
  },
  {
   "cell_type": "markdown",
   "metadata": {
    "deletable": true,
    "editable": true
   },
   "source": [
    "It is Pythonic to operate on lists -- element-wise operations, filtering, etc. -- by using list comprehensions.  In many other languages, starting with Lisp but extending to many \"functional\" programming languages, a different style is preferred:\n",
    "\n",
    "The idea is that if `f` is a function, then one thinks of the application\n",
    ">          \n",
    "    list   |---->   [ f(x) for x in list ]\n",
    "\n",
    "on lists as a function of _two_ arguments: `f` and `list`.  The idea of viewing the function `f` as a parameter is typical in functional programming languages, and can be taken as a definition of the later term.\n",
    "\n",
    "Some common idioms in this style, with Pythonic equivalents, are:\n",
    "\n",
    "- Apply `f` element-wise to `list`:\n",
    "    ``` python\n",
    "    map(f, list) == [ f(x) for x in list ]\n",
    "    ```\n",
    "- Filter `list` using `f`:\n",
    "    ``` python\n",
    "    filter(f, list) == [ x for x in list if f(x) ]\n",
    "    ```\n",
    "- Here `f` is a function that eats elements (of the type contained in `list`) and spits out lists, and `flatMap` first applies `f` element-wise to the elements of `list` and then _flattens_ or _concatenates_ the resulting lists.  It is sometimes also called `concatMap`.\n",
    "    ``` python\n",
    "    flatMap(f, list) == [ x for y in list for x in f(y) ]\n",
    "    ```\n",
    "- `reduce(f, list[, initial])`: Here `f` is a function of _two_ variables, and folds over the list applying `f` to the \"accumulator\" and the next value in the list.  That is, it performs the following recursion\n",
    "    $$    a_{-1} = \\mathrm{initial} $$\n",
    "    $$    a_i = f(a_{i-1}, \\mathrm{list}_i) $$\n",
    "    with the final answer being $a_{\\mathrm{len}(\\mathrm{list})-1}$.  (If initial is omitted, just start with $a_0 = \\mathrm{list}_0$.)  For instance,\n",
    "    ``` python           \n",
    "    reduce(lambda x,y: x+y, [1,2,3,4]) == ((1+2)+3)+4 == 10\n",
    "    ```"
   ]
  },
  {
   "cell_type": "markdown",
   "metadata": {
    "deletable": true,
    "editable": true
   },
   "source": [
    "*Note*: This is where the name \"mapReduce\" comes from!"
   ]
  },
  {
   "cell_type": "markdown",
   "metadata": {
    "deletable": true,
    "editable": true
   },
   "source": [
    "### Examples:\n",
    "Below are some examples of iterations."
   ]
  },
  {
   "cell_type": "code",
   "execution_count": null,
   "metadata": {
    "collapsed": true,
    "deletable": true,
    "editable": true
   },
   "outputs": [],
   "source": [
    "// All factors of a number: what type does this return?\n",
    "def factors(num: Int) = {\n",
    "    (1 to num).filter(num % _ == 0).toList  // last line in function is returned\n",
    "}\n",
    "\n",
    "val factors6 = factors(6)\n",
    "\n",
    "// count of all factors up to n\n",
    "def factorSum(num: Int) = {\n",
    "    val allFactors = (1 to num).flatMap(factors)\n",
    "    allFactors.groupBy(x => x).map(t => (t._1, t._2.length))  // can map over a HashMap\n",
    "}\n",
    "\n",
    "val factorSum10 = factorSum(10)"
   ]
  },
  {
   "cell_type": "code",
   "execution_count": null,
   "metadata": {
    "collapsed": true,
    "deletable": true,
    "editable": true
   },
   "outputs": [],
   "source": [
    "// largest palindrome that is the product of two 3-digit numbers\n",
    "\n",
    "// this is hard to read\n",
    "val r1 = ((100 to 999).view\n",
    "            .flatMap(i => (i to 999).map(i * _))\n",
    "            .filter(n => n.toString == n.toString.reverse)\n",
    "            .max)\n",
    "\n",
    "// for comprehension is easier to read\n",
    "val r2 = (for {\n",
    "    i <- 100 to 999\n",
    "    j <- i to 999\n",
    "    val n = (i * j)\n",
    "    val s = n.toString\n",
    "    if s == s.reverse\n",
    "} yield { n }).max\n",
    "\n",
    "assert(r1 == r2)"
   ]
  },
  {
   "cell_type": "markdown",
   "metadata": {
    "deletable": true,
    "editable": true
   },
   "source": [
    "## Options and map\n",
    "\n",
    "`Option` is a funny collection because it contains at most a single object.  But it turns out to be the most useful and very powerful when combined with `map` and `flatMap`.  The type system checks that you've considered all the corner cases."
   ]
  },
  {
   "cell_type": "code",
   "execution_count": null,
   "metadata": {
    "collapsed": true,
    "deletable": true,
    "editable": true
   },
   "outputs": [],
   "source": [
    "// so what are options for?\n",
    "import java.util.Arrays\n",
    "\n",
    "// binary search does not always return an index, so the return type should be optional\n",
    "def binarySearch(array: Array[Char], key: Char): Option[Int] = {\n",
    "    Arrays.binarySearch(array, key) match {\n",
    "        case index if index < 0 => None\n",
    "        case index => Some(index)\n",
    "    }\n",
    "}\n",
    "\n",
    "val targetArray = ('a' to 'z').toArray\n",
    "\n",
    "assert(binarySearch(targetArray, 'b') == Some(1))\n",
    "assert(binarySearch(targetArray, 'B') == None)\n",
    "\n",
    "// character after 'b' (don't forget the null case)\n",
    "def letterAfter1(array: Array[Char], key: Char): Option[Char] = {\n",
    "    binarySearch(array, key) match {\n",
    "        case Some(index) => if (array.isDefinedAt(index + 1)) {\n",
    "            Some(array(index + 1))\n",
    "        } else {\n",
    "            None\n",
    "        }\n",
    "        case None => None\n",
    "    }\n",
    "}\n",
    "\n",
    "// an even more idiomatic implementation\n",
    "def letterAfter2(array: Array[Char], key: Char): Option[Char] = {\n",
    "    binarySearch(targetArray, key).\n",
    "        flatMap(index => targetArray.drop(index+1).headOption)\n",
    "}\n",
    "\n",
    "assert(letterAfter1(targetArray, 'b') == letterAfter2(targetArray, 'b'))\n",
    "assert(letterAfter1(targetArray, 'z') == letterAfter2(targetArray, 'z'))\n",
    "assert(letterAfter1(targetArray, 'B') == letterAfter2(targetArray, 'B'))"
   ]
  },
  {
   "cell_type": "markdown",
   "metadata": {
    "deletable": true,
    "editable": true
   },
   "source": [
    "## Classes and objects"
   ]
  },
  {
   "cell_type": "markdown",
   "metadata": {
    "deletable": true,
    "editable": true
   },
   "source": [
    "### A simple example"
   ]
  },
  {
   "cell_type": "code",
   "execution_count": null,
   "metadata": {
    "collapsed": true,
    "deletable": true,
    "editable": true
   },
   "outputs": [],
   "source": [
    "// Companions must be defined together so we'll simulate :paste mode with braces.\n",
    "{\n",
    "    trait PointTrait {\n",
    "        def square(x: Double) = x * x // don't even need to declare return type\n",
    "    }\n",
    "\n",
    "    class Point(val x: Double, val y: Double) extends PointTrait {\n",
    "        // val means constructor arguements are public    \n",
    "        def distance(p: Point): Double = {\n",
    "            math.sqrt(square(p.x - x) + square(p.y - y))\n",
    "        }\n",
    "    \n",
    "        val norm = math.sqrt(square(x) + square(y))  // as if in constructor (e.g. __init__)\n",
    "    }\n",
    "\n",
    "    object Point extends PointTrait\n",
    "\n",
    "assert(new Point(0.0, 0.0).distance(new Point(1.0, 1.0)) == new Point(1.0, 1.0).norm)\n",
    "}"
   ]
  },
  {
   "cell_type": "markdown",
   "metadata": {
    "deletable": true,
    "editable": true
   },
   "source": [
    "### A more complex example"
   ]
  },
  {
   "cell_type": "code",
   "execution_count": null,
   "metadata": {
    "collapsed": true,
    "deletable": true,
    "editable": true
   },
   "outputs": [],
   "source": [
    "class Stack[T] {  // T is a type parameter (see usage)\n",
    "    var data: List[T] = Nil\n",
    "    \n",
    "    def push(x: T) {  // no return value => don't need '='\n",
    "        data = x :: data\n",
    "    }\n",
    "\n",
    "    def pop: Option[T] = data match {  // matches on type of \n",
    "        case init :: tail => {  // matches non-empty list\n",
    "            data = tail\n",
    "            Some(init)\n",
    "        }\n",
    "        case Nil => None  // matches empty list\n",
    "    }\n",
    "}\n",
    "\n",
    "val stack = new Stack[Int]\n",
    "stack.push(2)\n",
    "stack.push(3)\n",
    "assert(stack.pop == Some(3))\n",
    "assert(stack.pop == Some(2))\n",
    "assert(stack.pop == None)"
   ]
  },
  {
   "cell_type": "markdown",
   "metadata": {
    "deletable": true,
    "editable": true
   },
   "source": [
    "A good [reference](https://twitter.github.io/scala_school/type-basics.html) for Scala typing."
   ]
  },
  {
   "cell_type": "markdown",
   "metadata": {
    "deletable": true,
    "editable": true
   },
   "source": [
    "## Pass arguments by name or value"
   ]
  },
  {
   "cell_type": "code",
   "execution_count": null,
   "metadata": {
    "collapsed": true,
    "deletable": true,
    "editable": true
   },
   "outputs": [],
   "source": [
    "def passValue(x: Int) = {\n",
    "  println(\"x1=\" + x)\n",
    "  println(\"x2=\" + x)\n",
    "}\n",
    "\n",
    "def passAnonymousFunction(x: => Int) = {\n",
    "  println(\"x1=\" + x)\n",
    "  println(\"x2=\" + x)\n",
    "}\n",
    "\n",
    "def printfn() = {\n",
    "    println(\"hello\")\n",
    "    3\n",
    "}\n",
    "\n",
    "passValue(printfn)\n",
    "println(\"-----\")\n",
    "passAnonymousFunction(printfn)"
   ]
  },
  {
   "cell_type": "markdown",
   "metadata": {
    "deletable": true,
    "editable": true
   },
   "source": [
    "Remember, everything is an expression.\n",
    "\n",
    "`printfn` evaluates to the integer 3. But it's also a function that evaluates to the integer 3.\n",
    "\n",
    "If we pass it in to another function as a value, it will be evaluated and the value passed in used when asked for.\n",
    "\n",
    "If we pass it in to another function as a function, it will not be evaluated until asked for, and if you ask again, it must be evaluated again.\n",
    "\n",
    "*Question*: Can you think of some benefits of this kind of \"lazy evaluation\"? What about the drawbacks?"
   ]
  },
  {
   "cell_type": "markdown",
   "metadata": {
    "deletable": true,
    "editable": true
   },
   "source": [
    "## Try, catch, and finally\n",
    "Try and catch in Scala is a lot like other languages."
   ]
  },
  {
   "cell_type": "code",
   "execution_count": null,
   "metadata": {
    "collapsed": true,
    "deletable": true,
    "editable": true
   },
   "outputs": [],
   "source": [
    "try {\n",
    "    println(\"Before the exception\")\n",
    "    throw new IllegalArgumentException (\"\")\n",
    "    println(\"After the exception\")\n",
    "} catch {\n",
    "    case e: Exception => println(\"got an exception: \" + e)\n",
    "} finally {\n",
    "    println(\"print me no matter what\")\n",
    "}"
   ]
  },
  {
   "cell_type": "markdown",
   "metadata": {
    "deletable": true,
    "editable": true
   },
   "source": [
    "**Exercise**: Exceptions have a method `printStackTrace` which requires no arguments. Modify the above code to print not just the name of the error, but the entire stacktrace."
   ]
  },
  {
   "cell_type": "markdown",
   "metadata": {
    "deletable": true,
    "editable": true
   },
   "source": [
    "## Advantages and disadvantages of Scala?\n",
    "1. It reduces performance overhead\n",
    "2. Access to the latest and greatest\n",
    "3. Understand the underlying philosophy of computation that Spark inherits from being developed in Scala\n",
    "4. One language to rule them all:\n",
    "> With Spark and Scala, the experience is different, because you’re using the same language for everything. You’re writing Scala to retrieve data from the cluster via Spark. You’re writing Scala to manipulate that data locally on your own machine. And then — and this is the really neat part — you can send Scala code into the cluster so that you can perform the exact same transformations that you performed locally on data that is still stored in the cluster. It’s difficult to express how transformative it is to do all of your data munging and analysis in a single environment, regardless of where the data itself is stored and processed. It’s the sort of thing that you have to experience for yourself to understand, and we wanted to be sure that our recipes captured some of that same magic feeling that we felt when we first started using Spark."
   ]
  },
  {
   "cell_type": "markdown",
   "metadata": {
    "deletable": true,
    "editable": true
   },
   "source": [
    "## Additional resources\n",
    "\n",
    "- [Scala School](https://twitter.github.io/scala_school/)\n",
    "- [Scala for Python programmers](http://bugra.github.io/work/notes/2014-10-18/scala-basics-for-python-developers/)\n",
    "- [The Official Scala-Lang Learning Page](http://www.scala-lang.org/documentation/)\n",
    "- [Another tutorial on Scala](http://www.scala-lang.org/docu/files/ScalaTutorial.pdf)\n",
    "- [Scala For The Impatient](http://fileadmin.cs.lth.se/scala/scala-impatient.pdf)"
   ]
  },
  {
   "cell_type": "markdown",
   "metadata": {
    "deletable": true,
    "editable": true
   },
   "source": [
    "#### Exit Tickets\n",
    "1. Explain flatMap to a layman.\n",
    "1. Write a fully typed function that accepts an integer as input, returns the integer if it is divisible by k, and if not returns None."
   ]
  },
  {
   "cell_type": "markdown",
   "metadata": {
    "deletable": true,
    "editable": true
   },
   "source": [
    "*Copyright &copy; 2015 The Data Incubator.  All rights reserved.*"
   ]
  }
 ],
 "metadata": {
  "kernelspec": {
   "display_name": "Spark - Scala",
   "language": "scala",
   "name": "spark_scala"
  },
  "language_info": {
   "codemirror_mode": "text/x-scala",
   "file_extension": ".scala",
   "mimetype": "text/x-scala",
   "name": "scala",
   "version": "2.11.8"
  }
 },
 "nbformat": 4,
 "nbformat_minor": 0
}
